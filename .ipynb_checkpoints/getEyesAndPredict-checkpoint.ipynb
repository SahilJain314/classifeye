{
 "cells": [
  {
   "cell_type": "code",
   "execution_count": 51,
   "metadata": {},
   "outputs": [],
   "source": [
    "#Helps split image into 2 separate files with eyes in image\n",
    "import cv2\n",
    "\n",
    "face_cascade = cv2.CascadeClassifier('D:/deep/haarcascade_frontalface_default.xml')\n",
    "eye_cascade = cv2.CascadeClassifier('D:/deep/haarcascade_eye.xml')\n",
    "\n",
    "# Saves eyes into the same directory, except with preceding \"left_eye_\" or \"right_eye_\"\n",
    "def getEyesFromFilename (imgDir,imgName):\n",
    "\n",
    "    imgLocation = imgDir + imgName\n",
    "    img = cv2.imread(imgLocation)\n",
    "    gray = cv2.cvtColor(img, cv2.COLOR_BGR2GRAY)\n",
    "    \n",
    "    left_eye_found = False\n",
    "    right_eye_found = False\n",
    "    \n",
    "    faces = face_cascade.detectMultiScale(gray, 1.05, 5)\n",
    "    for (x,y,w,h) in faces:\n",
    "        img = cv2.rectangle(img,(x,y),(x+w,y+h),(255,0,0),2)\n",
    "        roi_gray = gray[y:y+h, x:x+w]\n",
    "        roi_color = img[y:y+h, x:x+w]\n",
    "        eyes = eye_cascade.detectMultiScale(roi_gray)\n",
    "        \n",
    "        n = 0\n",
    "\n",
    "        for (ex,ey,ew,eh) in eyes:\n",
    "            cv2.rectangle(roi_color,(ex,ey),(ex+ew,ey+eh),(0,255,0),2)\n",
    "            crop_img = roi_gray[ey:ey + eh, ex:ex + ew]\n",
    "\n",
    "            if n is 0:\n",
    "                cv2.imwrite(imgDir+\"left-eye-\"+imgName,crop_img)\n",
    "                left_eye_found = True\n",
    "\n",
    "            elif n is 1:\n",
    "                cv2.imwrite(imgDir+\"right-eye-\"+imgName,crop_img)\n",
    "                right_eye_found = True\n",
    "                \n",
    "            n+=1\n",
    "    \n",
    "    return (left_eye_found, right_eye_found)\n",
    "      \n",
    "     \n",
    "\n",
    "# returns python list with both eyes as cv2 images\n",
    "def getEyesAsList (img):\n",
    "    gray = cv2.cvtColor(img, cv2.COLOR_BGR2GRAY)\n",
    "\n",
    "    faces = face_cascade.detectMultiScale(gray, 1.05, 5)\n",
    "    print(faces)\n",
    "    for (x, y, w, h) in faces:\n",
    "        img = cv2.rectangle(img, (x, y), (x + w, y + h), (255, 0, 0), 2)\n",
    "        roi_gray = gray[y:y + h, x:x + w]\n",
    "        roi_color = img[y:y + h, x:x + w]\n",
    "        eyes = eye_cascade.detectMultiScale(roi_gray)\n",
    "\n",
    "        eyeArray = []\n",
    "        print(eyes)\n",
    "\n",
    "        for (ex, ey, ew, eh) in eyes:\n",
    "            cv2.rectangle(roi_color, (ex, ey), (ex + ew, ey + eh), (0, 255, 0), 2)\n",
    "            crop_img = roi_gray[ey:ey + eh, ex:ex + ew]\n",
    "            eyeArray.append(crop_img)\n",
    "            print('append')\n",
    "\n",
    "        return eyeArray"
   ]
  },
  {
   "cell_type": "code",
   "execution_count": 52,
   "metadata": {},
   "outputs": [],
   "source": [
    "import keras\n",
    "from PIL import Image\n",
    "from keras.models import load_model\n",
    "import numpy as np\n",
    "\n",
    "#Load a Keras model from a .h5 file\n",
    "model = load_model('C:/Users/sahil/Desktop/Files/Coding/projects/classifeye/cassifeye.h5')\n",
    "\n",
    "\n",
    "def getPredictionFromEye(image_path, image_name):\n",
    "    img = Image.open(image_path+image_name)\n",
    "    img = img.resize((25,25),resample=0)\n",
    "    numpyAr = np.array(img).reshape(1,25,25,1)\n",
    "    if(model.predict(x=numpyAr)>.5):\n",
    "        return True\n",
    "    else:\n",
    "        return False\n",
    "\n",
    "\n",
    "def getPredicationFromImg(image_path, image_name):\n",
    "    eyes = getEyesAsList(image_path, image_name)\n",
    "    num_eyes = 0\n",
    "    awake = False\n",
    "\n",
    "    if eyes != None:\n",
    "        num_eyes = len(eyes)\n",
    "        \n",
    "    for i in range(num_eyes):\n",
    "        if not awake:\n",
    "            cv2.imwrite(image_path+'testing-'+image_name)\n",
    "            if getPredicationFromEye(image_path, 'testing-'+image_name)\n",
    "    if num_eyes == (False, False):\n",
    "        return (2,2)\n",
    "    elif num_eyes == (True, False):\n",
    "        return (getPredictionFromEye(image_path, 'left-eye-'+image_name), 2)\n",
    "    elif num_eyes == (False, True):\n",
    "        return (2, getPredictionFromEye(image_path, 'right-eye-'+image_name))\n",
    "    else:\n",
    "        return (getPredictionFromEye(image_path, 'left-eye-'+image_name), getPredictionFromEye(image_path, 'right-eye-'+image_name))"
   ]
  },
  {
   "cell_type": "code",
   "execution_count": 59,
   "metadata": {
    "scrolled": false
   },
   "outputs": [
    {
     "ename": "error",
     "evalue": "OpenCV(4.1.0) C:\\projects\\opencv-python\\opencv\\modules\\imgproc\\src\\color.cpp:182: error: (-215:Assertion failed) !_src.empty() in function 'cv::cvtColor'\n",
     "output_type": "error",
     "traceback": [
      "\u001b[1;31m---------------------------------------------------------------------------\u001b[0m",
      "\u001b[1;31merror\u001b[0m                                     Traceback (most recent call last)",
      "\u001b[1;32m<ipython-input-59-b5bb13a8ad54>\u001b[0m in \u001b[0;36m<module>\u001b[1;34m\u001b[0m\n\u001b[1;32m----> 1\u001b[1;33m \u001b[0mprint\u001b[0m\u001b[1;33m(\u001b[0m\u001b[0mgetPredicationFromImg\u001b[0m\u001b[1;33m(\u001b[0m\u001b[1;34m'D:/deep/dataset_B_FacialImages'\u001b[0m\u001b[1;33m,\u001b[0m\u001b[1;34m'lebron.jpg'\u001b[0m\u001b[1;33m)\u001b[0m\u001b[1;33m)\u001b[0m\u001b[1;33m\u001b[0m\u001b[1;33m\u001b[0m\u001b[0m\n\u001b[0m",
      "\u001b[1;32m<ipython-input-52-93a2fa87f573>\u001b[0m in \u001b[0;36mgetPredicationFromImg\u001b[1;34m(image_path, image_name)\u001b[0m\n\u001b[0;32m     19\u001b[0m \u001b[1;33m\u001b[0m\u001b[0m\n\u001b[0;32m     20\u001b[0m \u001b[1;32mdef\u001b[0m \u001b[0mgetPredicationFromImg\u001b[0m\u001b[1;33m(\u001b[0m\u001b[0mimage_path\u001b[0m\u001b[1;33m,\u001b[0m \u001b[0mimage_name\u001b[0m\u001b[1;33m)\u001b[0m\u001b[1;33m:\u001b[0m\u001b[1;33m\u001b[0m\u001b[1;33m\u001b[0m\u001b[0m\n\u001b[1;32m---> 21\u001b[1;33m     \u001b[0mnum_eyes\u001b[0m \u001b[1;33m=\u001b[0m \u001b[0mgetEyesFromFilename\u001b[0m\u001b[1;33m(\u001b[0m\u001b[0mimage_path\u001b[0m\u001b[1;33m,\u001b[0m \u001b[0mimage_name\u001b[0m\u001b[1;33m)\u001b[0m\u001b[1;33m\u001b[0m\u001b[1;33m\u001b[0m\u001b[0m\n\u001b[0m\u001b[0;32m     22\u001b[0m     \u001b[1;32mif\u001b[0m \u001b[0mnum_eyes\u001b[0m \u001b[1;33m==\u001b[0m \u001b[1;33m(\u001b[0m\u001b[1;32mFalse\u001b[0m\u001b[1;33m,\u001b[0m \u001b[1;32mFalse\u001b[0m\u001b[1;33m)\u001b[0m\u001b[1;33m:\u001b[0m\u001b[1;33m\u001b[0m\u001b[1;33m\u001b[0m\u001b[0m\n\u001b[0;32m     23\u001b[0m         \u001b[1;32mreturn\u001b[0m \u001b[1;33m(\u001b[0m\u001b[1;36m2\u001b[0m\u001b[1;33m,\u001b[0m\u001b[1;36m2\u001b[0m\u001b[1;33m)\u001b[0m\u001b[1;33m\u001b[0m\u001b[1;33m\u001b[0m\u001b[0m\n",
      "\u001b[1;32m<ipython-input-51-16332ca6224a>\u001b[0m in \u001b[0;36mgetEyesFromFilename\u001b[1;34m(imgDir, imgName)\u001b[0m\n\u001b[0;32m     10\u001b[0m     \u001b[0mimgLocation\u001b[0m \u001b[1;33m=\u001b[0m \u001b[0mimgDir\u001b[0m \u001b[1;33m+\u001b[0m \u001b[0mimgName\u001b[0m\u001b[1;33m\u001b[0m\u001b[1;33m\u001b[0m\u001b[0m\n\u001b[0;32m     11\u001b[0m     \u001b[0mimg\u001b[0m \u001b[1;33m=\u001b[0m \u001b[0mcv2\u001b[0m\u001b[1;33m.\u001b[0m\u001b[0mimread\u001b[0m\u001b[1;33m(\u001b[0m\u001b[0mimgLocation\u001b[0m\u001b[1;33m)\u001b[0m\u001b[1;33m\u001b[0m\u001b[1;33m\u001b[0m\u001b[0m\n\u001b[1;32m---> 12\u001b[1;33m     \u001b[0mgray\u001b[0m \u001b[1;33m=\u001b[0m \u001b[0mcv2\u001b[0m\u001b[1;33m.\u001b[0m\u001b[0mcvtColor\u001b[0m\u001b[1;33m(\u001b[0m\u001b[0mimg\u001b[0m\u001b[1;33m,\u001b[0m \u001b[0mcv2\u001b[0m\u001b[1;33m.\u001b[0m\u001b[0mCOLOR_BGR2GRAY\u001b[0m\u001b[1;33m)\u001b[0m\u001b[1;33m\u001b[0m\u001b[1;33m\u001b[0m\u001b[0m\n\u001b[0m\u001b[0;32m     13\u001b[0m \u001b[1;33m\u001b[0m\u001b[0m\n\u001b[0;32m     14\u001b[0m     \u001b[0mleft_eye_found\u001b[0m \u001b[1;33m=\u001b[0m \u001b[1;32mFalse\u001b[0m\u001b[1;33m\u001b[0m\u001b[1;33m\u001b[0m\u001b[0m\n",
      "\u001b[1;31merror\u001b[0m: OpenCV(4.1.0) C:\\projects\\opencv-python\\opencv\\modules\\imgproc\\src\\color.cpp:182: error: (-215:Assertion failed) !_src.empty() in function 'cv::cvtColor'\n"
     ]
    }
   ],
   "source": [
    "print(getPredicationFromImg('D:/deep/dataset_B_FacialImages','lebron.jpg'))"
   ]
  },
  {
   "cell_type": "code",
   "execution_count": null,
   "metadata": {},
   "outputs": [],
   "source": []
  }
 ],
 "metadata": {
  "kernelspec": {
   "display_name": "Python 3",
   "language": "python",
   "name": "python3"
  },
  "language_info": {
   "codemirror_mode": {
    "name": "ipython",
    "version": 3
   },
   "file_extension": ".py",
   "mimetype": "text/x-python",
   "name": "python",
   "nbconvert_exporter": "python",
   "pygments_lexer": "ipython3",
   "version": "3.6.8"
  }
 },
 "nbformat": 4,
 "nbformat_minor": 2
}
