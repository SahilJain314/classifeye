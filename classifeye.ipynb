{
 "cells": [
  {
   "cell_type": "code",
   "execution_count": 2,
   "metadata": {},
   "outputs": [
    {
     "name": "stderr",
     "output_type": "stream",
     "text": [
      "Using TensorFlow backend.\n"
     ]
    }
   ],
   "source": [
    "import numpy as np #lin. Alg.\n",
    "import pandas as pd #data processing\n",
    "import matplotlib.pyplot as plt\n",
    "import matplotlib.image as matimg\n",
    "\n",
    "#importing keras modules\n",
    "import keras\n",
    "from keras.models import Sequential\n",
    "from keras.layers import Flatten\n",
    "from keras.layers import Dense\n",
    "from keras.layers import Conv2D\n",
    "from keras.layers import MaxPooling2D, GlobalAveragePooling2D\n",
    "from keras.layers import Dropout\n",
    "from keras.layers import Activation\n",
    "from keras.models import load_model\n",
    "from keras import backend as K\n",
    "from keras import optimizers\n",
    "import tensorflow as tf\n",
    "import random\n",
    "\n",
    "\n",
    "\n",
    "config = tf.ConfigProto()\n",
    "config.gpu_options.allow_growth = True\n",
    "sess = tf.Session(config=config)\n",
    "\n",
    "#Python Image Library for image processing\n",
    "from PIL import Image\n",
    "\n",
    "import os\n",
    "\n",
    "image_path = 'D:deep/mrlEyes/'"
   ]
  },
  {
   "cell_type": "code",
   "execution_count": 3,
   "metadata": {},
   "outputs": [
    {
     "name": "stdout",
     "output_type": "stream",
     "text": [
      "42952\n"
     ]
    }
   ],
   "source": [
    "def get_im_array(f, size):\n",
    "    im = Image.open(f).resize(size)\n",
    "    return np.array(im)\n",
    "\n",
    "print(len([f for f in os.listdir(image_path+'open')]))"
   ]
  },
  {
   "cell_type": "code",
   "execution_count": 7,
   "metadata": {},
   "outputs": [
    {
     "name": "stdout",
     "output_type": "stream",
     "text": [
      "42952\n",
      "41946\n"
     ]
    }
   ],
   "source": [
    "open_dir = image_path+ 'open/'\n",
    "closed_dir = image_path+ 'closed/'\n",
    "\n",
    "FINAL_SIDELEN = 25\n",
    "FINAL_SHAPE = (FINAL_SIDELEN,FINAL_SIDELEN)\n",
    "\n",
    "open_count = len([f for f in os.listdir(open_dir)])\n",
    "closed_count = len([f for f in os.listdir(closed_dir)])\n",
    "\n",
    "tt_split = .8\n",
    "\n",
    "X_train = []\n",
    "y_train = []\n",
    "X_test = []\n",
    "y_test = []\n",
    "\n",
    "\n",
    "i = 0\n",
    "\n",
    "open_files = random.sample(os.listdir(open_dir), open_count)\n",
    "closed_files = random.sample(os.listdir(closed_dir), closed_count)\n",
    "\n",
    "for f in open_files:\n",
    "    if f.endswith('png'):\n",
    "        if i<=tt_split*open_count:\n",
    "            X_train.append(get_im_array(open_dir+f,FINAL_SHAPE))\n",
    "            y_train.append(1)\n",
    "        else:\n",
    "            X_test.append(get_im_array(open_dir+f,FINAL_SHAPE))\n",
    "            y_test.append(1)\n",
    "        i+=1\n",
    "        \n",
    "print(i)\n",
    "    \n",
    "i = 0\n",
    "\n",
    "for f in closed_files:\n",
    "    if f.endswith('png'):\n",
    "        if i<=tt_split*closed_count:\n",
    "            X_train.append(get_im_array(closed_dir+f,FINAL_SHAPE))\n",
    "            y_train.append(0)\n",
    "        else:\n",
    "            X_test.append(get_im_array(closed_dir+f,FINAL_SHAPE))\n",
    "            y_test.append(0)\n",
    "        i+=1\n",
    "        \n",
    "print(i)\n",
    "\n",
    "X_train = np.array(X_train)\n",
    "y_train = np.array(y_train)\n",
    "X_test = np.array(X_test)\n",
    "y_test = np.array(y_test)\n",
    "    \n",
    "x_train = X_train.reshape(X_train.shape[0], FINAL_SIDELEN, FINAL_SIDELEN, 1)/255.\n",
    "x_test = X_test.reshape(X_test.shape[0], FINAL_SIDELEN, FINAL_SIDELEN, 1)/255.  \n"
   ]
  },
  {
   "cell_type": "code",
   "execution_count": 12,
   "metadata": {},
   "outputs": [
    {
     "name": "stdout",
     "output_type": "stream",
     "text": [
      "(67919, 25, 25, 1)\n",
      "(16979, 25, 25, 1)\n",
      "(67919,)\n",
      "(16979,)\n"
     ]
    }
   ],
   "source": [
    "print(x_train.shape)\n",
    "print(x_test.shape)\n",
    "print(y_train.shape)\n",
    "print(y_test.shape)"
   ]
  },
  {
   "cell_type": "code",
   "execution_count": 13,
   "metadata": {},
   "outputs": [],
   "source": [
    "#HyperParamters\n",
    "#Max Pooling Sizes\n",
    "m_1 = 2\n",
    "m_4 = 2\n",
    "#Dropout values of the layers\n",
    "d_1 = .4\n",
    "d_2 = .4\n",
    "#kernel sizes\n",
    "k_1 = 3\n",
    "k_2 = 3\n",
    "k_3 = 3\n",
    "k_4 = 3\n",
    "#Convolution layer sizes\n",
    "c_1 = 16\n",
    "c_2 = 8\n",
    "c_3 = 8"
   ]
  },
  {
   "cell_type": "code",
   "execution_count": 14,
   "metadata": {},
   "outputs": [
    {
     "name": "stdout",
     "output_type": "stream",
     "text": [
      "_________________________________________________________________\n",
      "Layer (type)                 Output Shape              Param #   \n",
      "=================================================================\n",
      "conv2d_1 (Conv2D)            (None, 25, 25, 16)        160       \n",
      "_________________________________________________________________\n",
      "max_pooling2d_1 (MaxPooling2 (None, 12, 12, 16)        0         \n",
      "_________________________________________________________________\n",
      "conv2d_2 (Conv2D)            (None, 12, 12, 8)         1160      \n",
      "_________________________________________________________________\n",
      "conv2d_3 (Conv2D)            (None, 12, 12, 8)         584       \n",
      "_________________________________________________________________\n",
      "max_pooling2d_2 (MaxPooling2 (None, 6, 6, 8)           0         \n",
      "_________________________________________________________________\n",
      "flatten_1 (Flatten)          (None, 288)               0         \n",
      "_________________________________________________________________\n",
      "dropout_1 (Dropout)          (None, 288)               0         \n",
      "_________________________________________________________________\n",
      "dense_1 (Dense)              (None, 16)                4624      \n",
      "_________________________________________________________________\n",
      "dropout_2 (Dropout)          (None, 16)                0         \n",
      "_________________________________________________________________\n",
      "dense_2 (Dense)              (None, 1)                 17        \n",
      "=================================================================\n",
      "Total params: 6,545\n",
      "Trainable params: 6,545\n",
      "Non-trainable params: 0\n",
      "_________________________________________________________________\n"
     ]
    }
   ],
   "source": [
    "data_format = 'channels_last'\n",
    "\n",
    "#Building model\n",
    "model = Sequential()\n",
    "\n",
    "model.add(Conv2D(c_1, kernel_size=(k_1, k_1), input_shape=x_train.shape[1:], activation='relu', padding='same'))\n",
    "model.add(MaxPooling2D(pool_size=(m_1,m_1)))\n",
    "\n",
    "model.add(Conv2D(c_2, kernel_size=(k_2, k_2), activation='relu', padding='same'))\n",
    "\n",
    "\n",
    "model.add(Conv2D(c_3, kernel_size=(k_4, k_4), activation='relu', padding='same'))\n",
    "model.add(MaxPooling2D(pool_size=(m_4,m_4)))\n",
    "\n",
    "model.add(Flatten())\n",
    "model.add(Dropout(d_1))\n",
    "model.add(Dense(16, activation='relu'))\n",
    "\n",
    "model.add(Dropout(d_2))\n",
    "model.add(Dense(1, activation='sigmoid'))\n",
    "\n",
    "#Compiling the model\n",
    "model.compile(keras.optimizers.Adam(), loss=keras.losses.binary_crossentropy, metrics=['accuracy'])\n",
    "\n",
    "keras.utils.print_summary(model)"
   ]
  },
  {
   "cell_type": "code",
   "execution_count": 15,
   "metadata": {},
   "outputs": [
    {
     "name": "stdout",
     "output_type": "stream",
     "text": [
      "Train on 67919 samples, validate on 16979 samples\n",
      "Epoch 1/100\n",
      "67919/67919 [==============================] - 2s 26us/step - loss: 0.6712 - acc: 0.5702 - val_loss: 0.6040 - val_acc: 0.7632\n",
      "Epoch 2/100\n",
      "67919/67919 [==============================] - 1s 19us/step - loss: 0.5417 - acc: 0.7580 - val_loss: 0.4207 - val_acc: 0.8555\n",
      "Epoch 3/100\n",
      "67919/67919 [==============================] - 1s 18us/step - loss: 0.4182 - acc: 0.8401 - val_loss: 0.3210 - val_acc: 0.8923\n",
      "Epoch 4/100\n",
      "67919/67919 [==============================] - 1s 18us/step - loss: 0.3450 - acc: 0.8725 - val_loss: 0.2665 - val_acc: 0.9075\n",
      "Epoch 5/100\n",
      "67919/67919 [==============================] - 1s 18us/step - loss: 0.3076 - acc: 0.8846 - val_loss: 0.2411 - val_acc: 0.9142\n",
      "Epoch 6/100\n",
      "67919/67919 [==============================] - 1s 18us/step - loss: 0.2823 - acc: 0.8946 - val_loss: 0.2236 - val_acc: 0.9210\n",
      "Epoch 7/100\n",
      "67919/67919 [==============================] - 1s 18us/step - loss: 0.2670 - acc: 0.9005 - val_loss: 0.2084 - val_acc: 0.9234\n",
      "Epoch 8/100\n",
      "67919/67919 [==============================] - 1s 18us/step - loss: 0.2487 - acc: 0.9075 - val_loss: 0.1936 - val_acc: 0.9276\n",
      "Epoch 9/100\n",
      "67919/67919 [==============================] - 1s 18us/step - loss: 0.2387 - acc: 0.9121 - val_loss: 0.1840 - val_acc: 0.9324\n",
      "Epoch 10/100\n",
      "67919/67919 [==============================] - 1s 18us/step - loss: 0.2257 - acc: 0.9169 - val_loss: 0.1766 - val_acc: 0.9377\n",
      "Epoch 11/100\n",
      "67919/67919 [==============================] - 1s 18us/step - loss: 0.2187 - acc: 0.9200 - val_loss: 0.1662 - val_acc: 0.9357\n",
      "Epoch 12/100\n",
      "67919/67919 [==============================] - 1s 18us/step - loss: 0.2131 - acc: 0.9221 - val_loss: 0.1635 - val_acc: 0.9442\n",
      "Epoch 13/100\n",
      "67919/67919 [==============================] - 1s 18us/step - loss: 0.2042 - acc: 0.9253 - val_loss: 0.1534 - val_acc: 0.9417\n",
      "Epoch 14/100\n",
      "67919/67919 [==============================] - 1s 18us/step - loss: 0.1963 - acc: 0.9289 - val_loss: 0.1478 - val_acc: 0.9428\n",
      "Epoch 15/100\n",
      "67919/67919 [==============================] - 1s 18us/step - loss: 0.1911 - acc: 0.9296 - val_loss: 0.1420 - val_acc: 0.9483\n",
      "Epoch 16/100\n",
      "67919/67919 [==============================] - 1s 18us/step - loss: 0.1855 - acc: 0.9332 - val_loss: 0.1407 - val_acc: 0.9459\n",
      "Epoch 17/100\n",
      "67919/67919 [==============================] - 1s 19us/step - loss: 0.1811 - acc: 0.9350 - val_loss: 0.1340 - val_acc: 0.9488\n",
      "Epoch 18/100\n",
      "67919/67919 [==============================] - 1s 18us/step - loss: 0.1753 - acc: 0.9368 - val_loss: 0.1309 - val_acc: 0.9508\n",
      "Epoch 19/100\n",
      "67919/67919 [==============================] - 1s 18us/step - loss: 0.1725 - acc: 0.9378 - val_loss: 0.1278 - val_acc: 0.9503\n",
      "Epoch 20/100\n",
      "67919/67919 [==============================] - 1s 18us/step - loss: 0.1682 - acc: 0.9396 - val_loss: 0.1261 - val_acc: 0.9526\n",
      "Epoch 21/100\n",
      "67919/67919 [==============================] - 1s 18us/step - loss: 0.1654 - acc: 0.9401 - val_loss: 0.1235 - val_acc: 0.9520\n",
      "Epoch 22/100\n",
      "67919/67919 [==============================] - 1s 18us/step - loss: 0.1622 - acc: 0.9413 - val_loss: 0.1218 - val_acc: 0.9556\n",
      "Epoch 23/100\n",
      "67919/67919 [==============================] - 1s 19us/step - loss: 0.1591 - acc: 0.9434 - val_loss: 0.1195 - val_acc: 0.9536\n",
      "Epoch 24/100\n",
      "67919/67919 [==============================] - 1s 19us/step - loss: 0.1580 - acc: 0.9434 - val_loss: 0.1169 - val_acc: 0.9559\n",
      "Epoch 25/100\n",
      "67919/67919 [==============================] - 1s 19us/step - loss: 0.1542 - acc: 0.9448 - val_loss: 0.1167 - val_acc: 0.9557\n",
      "Epoch 26/100\n",
      "67919/67919 [==============================] - 1s 19us/step - loss: 0.1527 - acc: 0.9455 - val_loss: 0.1154 - val_acc: 0.9564\n",
      "Epoch 27/100\n",
      "67919/67919 [==============================] - 1s 18us/step - loss: 0.1492 - acc: 0.9468 - val_loss: 0.1105 - val_acc: 0.9593\n",
      "Epoch 28/100\n",
      "67919/67919 [==============================] - 1s 18us/step - loss: 0.1477 - acc: 0.9479 - val_loss: 0.1101 - val_acc: 0.9587\n",
      "Epoch 29/100\n",
      "67919/67919 [==============================] - 1s 18us/step - loss: 0.1464 - acc: 0.9473 - val_loss: 0.1076 - val_acc: 0.9604\n",
      "Epoch 30/100\n",
      "67919/67919 [==============================] - 1s 18us/step - loss: 0.1454 - acc: 0.9476 - val_loss: 0.1096 - val_acc: 0.9578\n",
      "Epoch 31/100\n",
      "67919/67919 [==============================] - 1s 18us/step - loss: 0.1462 - acc: 0.9487 - val_loss: 0.1101 - val_acc: 0.9592\n",
      "Epoch 32/100\n",
      "67919/67919 [==============================] - 1s 18us/step - loss: 0.1418 - acc: 0.9493 - val_loss: 0.1065 - val_acc: 0.9600\n",
      "Epoch 33/100\n",
      "67919/67919 [==============================] - 1s 18us/step - loss: 0.1396 - acc: 0.9501 - val_loss: 0.1037 - val_acc: 0.9615\n",
      "Epoch 34/100\n",
      "67919/67919 [==============================] - 1s 18us/step - loss: 0.1370 - acc: 0.9519 - val_loss: 0.1026 - val_acc: 0.9618\n",
      "Epoch 35/100\n",
      "67919/67919 [==============================] - 1s 18us/step - loss: 0.1356 - acc: 0.9518 - val_loss: 0.1028 - val_acc: 0.9610\n",
      "Epoch 36/100\n",
      "67919/67919 [==============================] - 1s 19us/step - loss: 0.1359 - acc: 0.9523 - val_loss: 0.1002 - val_acc: 0.9635\n",
      "Epoch 37/100\n",
      "67919/67919 [==============================] - 1s 19us/step - loss: 0.1334 - acc: 0.9535 - val_loss: 0.0983 - val_acc: 0.9632\n",
      "Epoch 38/100\n",
      "67919/67919 [==============================] - 1s 19us/step - loss: 0.1331 - acc: 0.9541 - val_loss: 0.0969 - val_acc: 0.9654\n",
      "Epoch 39/100\n",
      "67919/67919 [==============================] - 1s 18us/step - loss: 0.1285 - acc: 0.9553 - val_loss: 0.0951 - val_acc: 0.9648\n",
      "Epoch 40/100\n",
      "67919/67919 [==============================] - 1s 18us/step - loss: 0.1289 - acc: 0.9553 - val_loss: 0.0941 - val_acc: 0.9657\n",
      "Epoch 41/100\n",
      "67919/67919 [==============================] - 1s 18us/step - loss: 0.1272 - acc: 0.9557 - val_loss: 0.0930 - val_acc: 0.9663\n",
      "Epoch 42/100\n",
      "67919/67919 [==============================] - 1s 18us/step - loss: 0.1241 - acc: 0.9567 - val_loss: 0.0928 - val_acc: 0.9661\n",
      "Epoch 43/100\n",
      "67919/67919 [==============================] - 1s 18us/step - loss: 0.1234 - acc: 0.9582 - val_loss: 0.0931 - val_acc: 0.9647\n",
      "Epoch 44/100\n",
      "67919/67919 [==============================] - 1s 18us/step - loss: 0.1208 - acc: 0.9582 - val_loss: 0.0892 - val_acc: 0.9669\n",
      "Epoch 45/100\n",
      "67919/67919 [==============================] - 1s 19us/step - loss: 0.1197 - acc: 0.9575 - val_loss: 0.0880 - val_acc: 0.9679\n",
      "Epoch 46/100\n",
      "67919/67919 [==============================] - 1s 18us/step - loss: 0.1205 - acc: 0.9579 - val_loss: 0.0883 - val_acc: 0.9667\n",
      "Epoch 47/100\n",
      "67919/67919 [==============================] - 1s 18us/step - loss: 0.1220 - acc: 0.9580 - val_loss: 0.0875 - val_acc: 0.9684\n",
      "Epoch 48/100\n",
      "67919/67919 [==============================] - 1s 18us/step - loss: 0.1195 - acc: 0.9590 - val_loss: 0.0886 - val_acc: 0.9660\n",
      "Epoch 49/100\n",
      "67919/67919 [==============================] - 1s 19us/step - loss: 0.1148 - acc: 0.9599 - val_loss: 0.0852 - val_acc: 0.9689\n",
      "Epoch 50/100\n",
      "67919/67919 [==============================] - 1s 18us/step - loss: 0.1151 - acc: 0.9606 - val_loss: 0.0835 - val_acc: 0.9694\n",
      "Epoch 51/100\n",
      "67919/67919 [==============================] - 1s 18us/step - loss: 0.1135 - acc: 0.9606 - val_loss: 0.0852 - val_acc: 0.9677\n",
      "Epoch 52/100\n",
      "67919/67919 [==============================] - 1s 18us/step - loss: 0.1151 - acc: 0.9596 - val_loss: 0.0830 - val_acc: 0.9696\n",
      "Epoch 53/100\n",
      "67919/67919 [==============================] - 1s 18us/step - loss: 0.1108 - acc: 0.9615 - val_loss: 0.0824 - val_acc: 0.9696\n",
      "Epoch 54/100\n",
      "67919/67919 [==============================] - 1s 18us/step - loss: 0.1107 - acc: 0.9616 - val_loss: 0.0826 - val_acc: 0.9687\n",
      "Epoch 55/100\n",
      "67919/67919 [==============================] - 1s 18us/step - loss: 0.1085 - acc: 0.9617 - val_loss: 0.0805 - val_acc: 0.9703\n",
      "Epoch 56/100\n",
      "67919/67919 [==============================] - 1s 18us/step - loss: 0.1105 - acc: 0.9618 - val_loss: 0.0793 - val_acc: 0.9714\n",
      "Epoch 57/100\n",
      "67919/67919 [==============================] - 1s 18us/step - loss: 0.1111 - acc: 0.9615 - val_loss: 0.0802 - val_acc: 0.9706\n",
      "Epoch 58/100\n",
      "67919/67919 [==============================] - 1s 18us/step - loss: 0.1079 - acc: 0.9627 - val_loss: 0.0788 - val_acc: 0.9713\n",
      "Epoch 59/100\n"
     ]
    },
    {
     "name": "stdout",
     "output_type": "stream",
     "text": [
      "67919/67919 [==============================] - 1s 18us/step - loss: 0.1052 - acc: 0.9640 - val_loss: 0.0809 - val_acc: 0.9703\n",
      "Epoch 60/100\n",
      "67919/67919 [==============================] - 1s 18us/step - loss: 0.1071 - acc: 0.9633 - val_loss: 0.0777 - val_acc: 0.9723\n",
      "Epoch 61/100\n",
      "67919/67919 [==============================] - 1s 18us/step - loss: 0.1034 - acc: 0.9642 - val_loss: 0.0769 - val_acc: 0.9716\n",
      "Epoch 62/100\n",
      "67919/67919 [==============================] - 1s 19us/step - loss: 0.1031 - acc: 0.9645 - val_loss: 0.0791 - val_acc: 0.9708\n",
      "Epoch 63/100\n",
      "67919/67919 [==============================] - 1s 18us/step - loss: 0.1048 - acc: 0.9635 - val_loss: 0.0762 - val_acc: 0.9720\n",
      "Epoch 64/100\n",
      "67919/67919 [==============================] - 1s 18us/step - loss: 0.1031 - acc: 0.9647 - val_loss: 0.0756 - val_acc: 0.9717\n",
      "Epoch 65/100\n",
      "67919/67919 [==============================] - 1s 19us/step - loss: 0.1028 - acc: 0.9652 - val_loss: 0.0763 - val_acc: 0.9713\n",
      "Epoch 66/100\n",
      "67919/67919 [==============================] - 1s 18us/step - loss: 0.1044 - acc: 0.9640 - val_loss: 0.0742 - val_acc: 0.9734\n",
      "Epoch 67/100\n",
      "67919/67919 [==============================] - 1s 18us/step - loss: 0.0987 - acc: 0.9661 - val_loss: 0.0725 - val_acc: 0.9739\n",
      "Epoch 68/100\n",
      "67919/67919 [==============================] - 1s 18us/step - loss: 0.1012 - acc: 0.9653 - val_loss: 0.0749 - val_acc: 0.9722\n",
      "Epoch 69/100\n",
      "67919/67919 [==============================] - 1s 18us/step - loss: 0.1020 - acc: 0.9648 - val_loss: 0.0733 - val_acc: 0.9734\n",
      "Epoch 70/100\n",
      "67919/67919 [==============================] - 1s 18us/step - loss: 0.1024 - acc: 0.9639 - val_loss: 0.0735 - val_acc: 0.9735\n",
      "Epoch 71/100\n",
      "67919/67919 [==============================] - 1s 18us/step - loss: 0.1014 - acc: 0.9658 - val_loss: 0.0758 - val_acc: 0.9718\n",
      "Epoch 72/100\n",
      "67919/67919 [==============================] - 1s 18us/step - loss: 0.1010 - acc: 0.9651 - val_loss: 0.0726 - val_acc: 0.9733\n",
      "Epoch 73/100\n",
      "67919/67919 [==============================] - 1s 18us/step - loss: 0.1012 - acc: 0.9656 - val_loss: 0.0724 - val_acc: 0.9730\n",
      "Epoch 74/100\n",
      "67919/67919 [==============================] - 1s 18us/step - loss: 0.0979 - acc: 0.9667 - val_loss: 0.0713 - val_acc: 0.9738\n",
      "Epoch 75/100\n",
      "67919/67919 [==============================] - 1s 18us/step - loss: 0.0964 - acc: 0.9671 - val_loss: 0.0707 - val_acc: 0.9742\n",
      "Epoch 76/100\n",
      "67919/67919 [==============================] - 1s 18us/step - loss: 0.0992 - acc: 0.9666 - val_loss: 0.0708 - val_acc: 0.9739\n",
      "Epoch 77/100\n",
      "67919/67919 [==============================] - 1s 18us/step - loss: 0.1006 - acc: 0.9656 - val_loss: 0.0727 - val_acc: 0.9747\n",
      "Epoch 78/100\n",
      "67919/67919 [==============================] - 1s 18us/step - loss: 0.0964 - acc: 0.9668 - val_loss: 0.0742 - val_acc: 0.9725\n",
      "Epoch 79/100\n",
      "67919/67919 [==============================] - 1s 18us/step - loss: 0.0973 - acc: 0.9661 - val_loss: 0.0692 - val_acc: 0.9748\n",
      "Epoch 80/100\n",
      "67919/67919 [==============================] - 1s 18us/step - loss: 0.0981 - acc: 0.9656 - val_loss: 0.0697 - val_acc: 0.9738\n",
      "Epoch 81/100\n",
      "67919/67919 [==============================] - 1s 18us/step - loss: 0.0945 - acc: 0.9675 - val_loss: 0.0699 - val_acc: 0.9744\n",
      "Epoch 82/100\n",
      "67919/67919 [==============================] - 1s 18us/step - loss: 0.0950 - acc: 0.9670 - val_loss: 0.0698 - val_acc: 0.9738\n",
      "Epoch 83/100\n",
      "67919/67919 [==============================] - 1s 18us/step - loss: 0.0952 - acc: 0.9666 - val_loss: 0.0768 - val_acc: 0.9702\n",
      "Epoch 84/100\n",
      "67919/67919 [==============================] - 1s 18us/step - loss: 0.0944 - acc: 0.9677 - val_loss: 0.0677 - val_acc: 0.9752\n",
      "Epoch 85/100\n",
      "67919/67919 [==============================] - 1s 18us/step - loss: 0.0931 - acc: 0.9682 - val_loss: 0.0663 - val_acc: 0.9761\n",
      "Epoch 86/100\n",
      "67919/67919 [==============================] - 1s 19us/step - loss: 0.0922 - acc: 0.9690 - val_loss: 0.0667 - val_acc: 0.9750\n",
      "Epoch 87/100\n",
      "67919/67919 [==============================] - 1s 18us/step - loss: 0.0927 - acc: 0.9688 - val_loss: 0.0691 - val_acc: 0.9760\n",
      "Epoch 88/100\n",
      "67919/67919 [==============================] - 1s 18us/step - loss: 0.0921 - acc: 0.9683 - val_loss: 0.0659 - val_acc: 0.9758\n",
      "Epoch 89/100\n",
      "67919/67919 [==============================] - 1s 19us/step - loss: 0.0913 - acc: 0.9693 - val_loss: 0.0662 - val_acc: 0.9753\n",
      "Epoch 90/100\n",
      "67919/67919 [==============================] - 1s 18us/step - loss: 0.0920 - acc: 0.9687 - val_loss: 0.0704 - val_acc: 0.9746\n",
      "Epoch 91/100\n",
      "67919/67919 [==============================] - 1s 18us/step - loss: 0.0916 - acc: 0.9687 - val_loss: 0.0661 - val_acc: 0.9759\n",
      "Epoch 92/100\n",
      "67919/67919 [==============================] - 1s 18us/step - loss: 0.0907 - acc: 0.9688 - val_loss: 0.0672 - val_acc: 0.9758\n",
      "Epoch 93/100\n",
      "67919/67919 [==============================] - 1s 18us/step - loss: 0.0894 - acc: 0.9692 - val_loss: 0.0675 - val_acc: 0.9753\n",
      "Epoch 94/100\n",
      "67919/67919 [==============================] - 1s 18us/step - loss: 0.0903 - acc: 0.9693 - val_loss: 0.0675 - val_acc: 0.9740\n",
      "Epoch 95/100\n",
      "67919/67919 [==============================] - 1s 18us/step - loss: 0.0913 - acc: 0.9688 - val_loss: 0.0643 - val_acc: 0.9766\n",
      "Epoch 96/100\n",
      "67919/67919 [==============================] - 1s 18us/step - loss: 0.0893 - acc: 0.9701 - val_loss: 0.0637 - val_acc: 0.9765\n",
      "Epoch 97/100\n",
      "67919/67919 [==============================] - 1s 18us/step - loss: 0.0885 - acc: 0.9686 - val_loss: 0.0644 - val_acc: 0.9777\n",
      "Epoch 98/100\n",
      "67919/67919 [==============================] - 1s 18us/step - loss: 0.0883 - acc: 0.9691 - val_loss: 0.0646 - val_acc: 0.9763\n",
      "Epoch 99/100\n",
      "67919/67919 [==============================] - 1s 18us/step - loss: 0.0907 - acc: 0.9693 - val_loss: 0.0636 - val_acc: 0.9757\n",
      "Epoch 100/100\n",
      "67919/67919 [==============================] - 1s 18us/step - loss: 0.0909 - acc: 0.9682 - val_loss: 0.0655 - val_acc: 0.9756\n"
     ]
    }
   ],
   "source": [
    "#Number of epochs to train with\n",
    "epoch_num = 100\n",
    "\n",
    "model_log = model.fit(x_train, y_train, epochs=epoch_num, batch_size=2000, verbose=1, validation_data=(x_test, y_test), shuffle=True)"
   ]
  },
  {
   "cell_type": "code",
   "execution_count": 16,
   "metadata": {},
   "outputs": [
    {
     "data": {
      "image/png": "[encoded data removed]",
      "text/plain": [
       "<Figure size 432x288 with 1 Axes>"
      ]
     },
     "metadata": {
      "needs_background": "light"
     },
     "output_type": "display_data"
    },
    {
     "data": {
      "image/png": "[encoded data removed]",
      "text/plain": [
       "<Figure size 432x288 with 1 Axes>"
      ]
     },
     "metadata": {
      "needs_background": "light"
     },
     "output_type": "display_data"
    }
   ],
   "source": [
    "plt.plot(model_log.history['val_acc'])\n",
    "plt.plot(model_log.history['acc'])\n",
    "plt.title('Accuracy')\n",
    "plt.ylabel('acc')\n",
    "plt.xlabel('epoch')\n",
    "plt.legend(['train', 'test'], loc='upper left')\n",
    "plt.show()\n",
    "\n",
    "plt.plot(model_log.history['loss'])\n",
    "plt.plot(model_log.history['val_loss'])\n",
    "plt.title('Loss')\n",
    "plt.ylabel('loss')\n",
    "plt.xlabel('epoch')\n",
    "plt.legend(['train', 'test'], loc='upper left')\n",
    "plt.show()\n",
    "\n"
   ]
  },
  {
   "cell_type": "code",
   "execution_count": 5,
   "metadata": {},
   "outputs": [],
   "source": [
    "#Save a Keras model as an .h5 file\n",
    "model.save('classifeye.h5')"
   ]
  },
  {
   "cell_type": "code",
   "execution_count": 12,
   "metadata": {},
   "outputs": [
    {
     "name": "stdout",
     "output_type": "stream",
     "text": [
      "Prediction: \n",
      "[[0.9953916]]\n",
      "\n",
      "Correct: \n",
      "1\n"
     ]
    }
   ],
   "source": [
    "#Shows the image and prediction for the 'view_num' element of the test set.\n",
    "view_num = 4\n",
    "\n",
    "\n",
    "print('Prediction: ')\n",
    "print(model.predict(x_test[view_num:view_num+1]))\n",
    "print()\n",
    "print('Correct: ')\n",
    "print(y_test[view_num])\n",
    "\n",
    "\n"
   ]
  },
  {
   "cell_type": "code",
   "execution_count": 4,
   "metadata": {},
   "outputs": [
    {
     "name": "stdout",
     "output_type": "stream",
     "text": [
      "WARNING:tensorflow:From C:\\Users\\sahil\\Anaconda3\\envs\\deeplearning\\lib\\site-packages\\tensorflow\\python\\framework\\op_def_library.py:263: colocate_with (from tensorflow.python.framework.ops) is deprecated and will be removed in a future version.\n",
      "Instructions for updating:\n",
      "Colocations handled automatically by placer.\n",
      "WARNING:tensorflow:From C:\\Users\\sahil\\Anaconda3\\envs\\deeplearning\\lib\\site-packages\\keras\\backend\\tensorflow_backend.py:3445: calling dropout (from tensorflow.python.ops.nn_ops) with keep_prob is deprecated and will be removed in a future version.\n",
      "Instructions for updating:\n",
      "Please use `rate` instead of `keep_prob`. Rate should be set to `rate = 1 - keep_prob`.\n",
      "WARNING:tensorflow:From C:\\Users\\sahil\\Anaconda3\\envs\\deeplearning\\lib\\site-packages\\tensorflow\\python\\ops\\math_ops.py:3066: to_int32 (from tensorflow.python.ops.math_ops) is deprecated and will be removed in a future version.\n",
      "Instructions for updating:\n",
      "Use tf.cast instead.\n"
     ]
    }
   ],
   "source": [
    "model = load_model('cassifeye.h5')"
   ]
  },
  {
   "cell_type": "code",
   "execution_count": 8,
   "metadata": {},
   "outputs": [
    {
     "data": {
      "text/plain": [
       "array([[8165,  224],\n",
       "       [  93, 8497]], dtype=int64)"
      ]
     },
     "execution_count": 8,
     "metadata": {},
     "output_type": "execute_result"
    }
   ],
   "source": [
    "#Prints the confusion matrix\n",
    "from sklearn.metrics import confusion_matrix\n",
    "y_pred = model.predict(x_test)\n",
    "for i in range(len(y_pred)):\n",
    "    if y_pred[i]>=.5:\n",
    "        y_pred[i]=1\n",
    "    else:\n",
    "        y_pred[i]=0\n",
    "confusion_matrix(y_test, y_pred)"
   ]
  },
  {
   "cell_type": "code",
   "execution_count": null,
   "metadata": {},
   "outputs": [],
   "source": []
  }
 ],
 "metadata": {
  "kernelspec": {
   "display_name": "Python 3",
   "language": "python",
   "name": "python3"
  },
  "language_info": {
   "codemirror_mode": {
    "name": "ipython",
    "version": 3
   },
   "file_extension": ".py",
   "mimetype": "text/x-python",
   "name": "python",
   "nbconvert_exporter": "python",
   "pygments_lexer": "ipython3",
   "version": "3.6.8"
  }
 },
 "nbformat": 4,
 "nbformat_minor": 2
}
