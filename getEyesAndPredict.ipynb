{
 "cells": [
  {
   "cell_type": "code",
   "execution_count": null,
   "metadata": {},
   "outputs": [],
   "source": [
    "#Helps split image into 2 separate files with eyes in image\n",
    "import cv2\n",
    "\n",
    "face_cascade = cv2.CascadeClassifier('D:/deep/haarcascade_frontalface_default.xml')\n",
    "eye_cascade = cv2.CascadeClassifier('D:/deep/haarcascade_eye.xml')\n",
    "\n",
    "# Saves eyes into the same directory, except with preceding \"left_eye_\" or \"right_eye_\"\n",
    "def getEyesFromFilename (imgDir,imgName):\n",
    "\n",
    "    imgLocation = imgDir + imgName\n",
    "    img = cv2.imread(imgLocation)\n",
    "    gray = cv2.cvtColor(img, cv2.COLOR_BGR2GRAY)\n",
    "    \n",
    "    left_eye_found = False\n",
    "    right_eye_found = False\n",
    "    \n",
    "    faces = face_cascade.detectMultiScale(gray, 1.05, 5)\n",
    "    for (x,y,w,h) in faces:\n",
    "        img = cv2.rectangle(img,(x,y),(x+w,y+h),(255,0,0),2)\n",
    "        roi_gray = gray[y:y+h, x:x+w]\n",
    "        roi_color = img[y:y+h, x:x+w]\n",
    "        eyes = eye_cascade.detectMultiScale(roi_gray)\n",
    "        \n",
    "        n = 0\n",
    "\n",
    "        for (ex,ey,ew,eh) in eyes:\n",
    "            cv2.rectangle(roi_color,(ex,ey),(ex+ew,ey+eh),(0,255,0),2)\n",
    "            crop_img = roi_gray[ey:ey + eh, ex:ex + ew]\n",
    "\n",
    "            if n is 0:\n",
    "                cv2.imwrite(imgDir+\"left-eye-\"+imgName,crop_img)\n",
    "                left_eye_found = True\n",
    "\n",
    "            elif n is 1:\n",
    "                cv2.imwrite(imgDir+\"right-eye-\"+imgName,crop_img)\n",
    "                right_eye_found = True\n",
    "                \n",
    "            n+=1\n",
    "    \n",
    "    return (left_eye_found, right_eye_found)\n",
    "      \n",
    "     \n",
    "\n",
    "def getImageAsList(img):\n",
    "    gray = cv2.cvtColor(img, cv2.COLOR_BGR2GRAY)\n",
    "\n",
    "    faces = face_cascade.detectMultiScale(gray, 1.3, 5)\n",
    "    for (x, y, w, h) in faces:\n",
    "        img = cv2.rectangle(img, (x, y), (x + w, y + h), (255, 0, 0), 2)\n",
    "        roi_gray = gray[y:y + h, x:x + w]\n",
    "        roi_color = img[y:y + h, x:x + w]\n",
    "        eyes = eye_cascade.detectMultiScale(roi_gray)\n",
    "\n",
    "        eyeArray = []\n",
    "\n",
    "        for (ex, ey, ew, eh) in eyes:\n",
    "            cv2.rectangle(roi_color, (ex, ey), (ex + ew, ey + eh), (0, 255, 0), 2)\n",
    "            crop_img = roi_gray[ey:ey + eh, ex:ex + ew]\n",
    "            eyeArray.append(crop_img)\n",
    "\n",
    "        return eyeArray"
   ]
  },
  {
   "cell_type": "code",
   "execution_count": 82,
   "metadata": {},
   "outputs": [],
   "source": [
    "import keras\n",
    "from PIL import Image\n",
    "from keras.models import load_model\n",
    "import numpy as np\n",
    "\n",
    "#Load a Keras model from a .h5 file\n",
    "model = load_model('C:/Users/sahil/Desktop/Files/Coding/projects/classifeye/cassifeye.h5')\n",
    "\n",
    "\n",
    "def getPredictionFromEye(image_path, image_name):\n",
    "    img = Image.open(image_path+image_name)\n",
    "    img = img.resize((25,25),resample=0)\n",
    "    numpyAr = np.array(img).reshape(1,25,25,1)\n",
    "    if(model.predict(x=numpyAr)>.5):\n",
    "        return True\n",
    "    else:\n",
    "        return False\n",
    "\n",
    "\n",
    "def getPredicationFromImg(image_path, image_name):\n",
    "    eyes = getImageAsList(cv2.imread(image_path+ image_name))\n",
    "    num_eyes = 0\n",
    "    awake = False\n",
    "\n",
    "    if eyes != None:\n",
    "        num_eyes = len(eyes)\n",
    "    else:\n",
    "        return 2\n",
    "        \n",
    "    for i in range(num_eyes):\n",
    "        if not awake:\n",
    "            cv2.imwrite(image_path+'testing-'+image_name, eyes[i])\n",
    "            if getPredictionFromEye(image_path, 'testing-'+image_name):\n",
    "                awake = True\n",
    "                \n",
    "    if awake:\n",
    "        return 1\n",
    "    else:\n",
    "        return 0\n",
    "    "
   ]
  },
  {
   "cell_type": "code",
   "execution_count": 83,
   "metadata": {
    "scrolled": false
   },
   "outputs": [
    {
     "name": "stdout",
     "output_type": "stream",
     "text": [
      "1\n"
     ]
    }
   ],
   "source": [
    "print(getPredicationFromImg('D:/deep/dataset_B_FacialImages/','lebron.jpg'))"
   ]
  },
  {
   "cell_type": "code",
   "execution_count": null,
   "metadata": {},
   "outputs": [],
   "source": []
  }
 ],
 "metadata": {
  "kernelspec": {
   "display_name": "Python 3",
   "language": "python",
   "name": "python3"
  },
  "language_info": {
   "codemirror_mode": {
    "name": "ipython",
    "version": 3
   },
   "file_extension": ".py",
   "mimetype": "text/x-python",
   "name": "python",
   "nbconvert_exporter": "python",
   "pygments_lexer": "ipython3",
   "version": "3.6.8"
  }
 },
 "nbformat": 4,
 "nbformat_minor": 2
}
